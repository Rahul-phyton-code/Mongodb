{
  "nbformat": 4,
  "nbformat_minor": 0,
  "metadata": {
    "colab": {
      "provenance": [],
      "authorship_tag": "ABX9TyMSXFQBCnbBrKTQU8llh6HT",
      "include_colab_link": true
    },
    "kernelspec": {
      "name": "python3",
      "display_name": "Python 3"
    },
    "language_info": {
      "name": "python"
    }
  },
  "cells": [
    {
      "cell_type": "markdown",
      "metadata": {
        "id": "view-in-github",
        "colab_type": "text"
      },
      "source": [
        "<a href=\"https://colab.research.google.com/github/Rahul-phyton-code/Mongodb/blob/main/17_feb.ipynb\" target=\"_parent\"><img src=\"https://colab.research.google.com/assets/colab-badge.svg\" alt=\"Open In Colab\"/></a>"
      ]
    },
    {
      "cell_type": "markdown",
      "source": [
        "1.) MongoDB is a database based on a non-relational document model. Thus, as a so-called NoSQL database (NoSQL = Not-only-SQL), it differs fundamentally from conventional relational databases such as Oracle, MySQL or the Microsoft SQL Server. \n",
        "      A non-relational database is a database that does not use the tabular schema of rows and columns found in most traditional database systems.\n",
        "\n",
        "MongoDB is faster and more scalable. While the SQL server supports JOIN and Global transactions, MongoDB does not. The MS SQL server does not accommodate large amounts of data, however MongoDB does.      "
      ],
      "metadata": {
        "id": "FukxHVKf29oc"
      }
    },
    {
      "cell_type": "markdown",
      "source": [
        "2.) These are some important features of MongoDB:\n",
        "\n",
        "1. Support ad hoc queries :In MongoDB, you can search by field, range query and it also supports regular expression searches.\n",
        "\n",
        "2. Indexing : You can index any field in a document.\n",
        "\n",
        "3. Replication :MongoDB supports Master Slave replication.\n",
        "\n",
        "4. Duplication of data:MongoDB can run over multiple servers. The data is duplicated to keep the system up and also keep its running condition in case of hardware failure.\n",
        "\n",
        "5. Load balancing:It has an automatic load balancing configuration because of data placed in shards.\n",
        "\n",
        "6. Supports map reduce and aggregation tools.\n",
        "\n",
        "7. Uses JavaScript instead of Procedures.\n",
        "\n",
        "8. It is a schema-less database written in C++.\n",
        "\n",
        "9. Provides high performance.\n",
        "\n",
        "10. Stores files of any size easily without complicating your stack.\n",
        "\n"
      ],
      "metadata": {
        "id": "Xjlx7oct4UUB"
      }
    },
    {
      "cell_type": "markdown",
      "source": [
        "3.)"
      ],
      "metadata": {
        "id": "XF9J_awxUAXT"
      }
    },
    {
      "cell_type": "code",
      "source": [
        "pip install pymongo\n",
        "client = pymongo(\"mongo - pwskills<pwskills>@cluster\")\n",
        "db = client[\"pwskills\"]\n",
        "coll_create = db[\"my_record\"]\n"
      ],
      "metadata": {
        "id": "2ewFrbU9TJVp"
      },
      "execution_count": null,
      "outputs": []
    },
    {
      "cell_type": "markdown",
      "source": [
        "4.)"
      ],
      "metadata": {
        "id": "xXGoOQnSWTW0"
      }
    },
    {
      "cell_type": "code",
      "source": [
        "pip install pymongo\n",
        "client = pymongo(\"mongo - pwskills<pwskills>@cluster\")\n",
        "db = client[\"pwskills\"]\n",
        "coll_create = db[\"my_record\"]\n",
        "data1 = {\"name:\"rahul\",\"class\":\"data science\"}\n",
        "data2 = [{\"name:\"rahul\",\"class\":\"data science\"},{\"name:\"varun\",\"class\":\"stack development\"}]\n",
        "coll_create.insert_one(data1)\n",
        "coll_create.insert_many(data2)\n",
        "for i in coll_create.find()\n",
        "print(i)\n",
        "coll_create.find_one()\n",
        "\n",
        "\n"
      ],
      "metadata": {
        "id": "gu5xSvveUbHP"
      },
      "execution_count": null,
      "outputs": []
    },
    {
      "cell_type": "markdown",
      "source": [
        "5.)n MongoDB, find() method is used to select documents in a collection and return a cursor to the selected documents."
      ],
      "metadata": {
        "id": "9fpQzzjkWVwh"
      }
    },
    {
      "cell_type": "code",
      "source": [
        "pip install pymongo\n",
        "client = pymongo(\"mongo - pwskills<pwskills>@cluster\")\n",
        "db1 = client[\"mongo\"]\n",
        "coll_create1 = db[\"new record\"]\n",
        "data1 = {\"name:\"aakash\",\"class\":\"science\"}\n",
        "data2 = [{\"name:\"nakul\",\"class\":\"maths\"},{\"name:\"bharat\",\"class\":\"accounts\"}]\n",
        "coll_create1.insert_one(data1)\n",
        "coll_create1.insert_many(data2)\n",
        "for i in coll_create1.find()\n",
        "print(i)"
      ],
      "metadata": {
        "id": "XujHxp5EXXw1"
      },
      "execution_count": null,
      "outputs": []
    },
    {
      "cell_type": "markdown",
      "source": [
        "6.) In MongoDB, sorting is done by the sort() method. The sort() method consists of two basic building blocks. These building blocks are fields to be sorted and the sort order."
      ],
      "metadata": {
        "id": "RFRwcgNTYLTn"
      }
    },
    {
      "cell_type": "code",
      "source": [
        "db.collection_name.find().sort({field_name: sort order})"
      ],
      "metadata": {
        "id": "9lmBix7CYQPG"
      },
      "execution_count": null,
      "outputs": []
    },
    {
      "cell_type": "markdown",
      "source": [
        "7.) delete_one() :In MongoDB, a single document can be deleted by the method delete_one(). The first parameter of the method would be a query object which defines the document to be deleted. If there are multiple documents matching the filter query, only the first appeared document would be deleted. \n",
        "\n",
        "Delete_many() is used when one needs to delete more than one document. A query object containing which document to be deleted is created and is passed as the first parameter to the delete_many()."
      ],
      "metadata": {
        "id": "NyFcRjqKYXIi"
      }
    },
    {
      "cell_type": "code",
      "source": [
        "collection.delete_many(filter, collation=None, hint=None, session=None)"
      ],
      "metadata": {
        "id": "WChk0_6uf7kj"
      },
      "execution_count": null,
      "outputs": []
    },
    {
      "cell_type": "markdown",
      "source": [
        "drop_index() library function in PyMongo is used to drop the index from a collection in the database, as the name suggests. In this article, we are going to discuss how to remove an index from a collection using our python application with PyMongo."
      ],
      "metadata": {
        "id": "7wuxs9LUgFCc"
      }
    },
    {
      "cell_type": "markdown",
      "source": [],
      "metadata": {
        "id": "Lrrwrfk8iSMA"
      }
    }
  ]
}